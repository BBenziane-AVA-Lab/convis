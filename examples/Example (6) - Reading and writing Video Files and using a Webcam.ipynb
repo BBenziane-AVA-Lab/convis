{
 "cells": [
  {
   "cell_type": "code",
   "execution_count": 1,
   "metadata": {
    "collapsed": false
   },
   "outputs": [
    {
     "name": "stdout",
     "output_type": "stream",
     "text": [
      "Populating the interactive namespace from numpy and matplotlib\n"
     ]
    },
    {
     "name": "stderr",
     "output_type": "stream",
     "text": [
      "Using gpu device 0: Quadro K620 (CNMeM is disabled, cuDNN not available)\n"
     ]
    }
   ],
   "source": [
    "%pylab inline\n",
    "import convis\n",
    "import convis.streams"
   ]
  },
  {
   "cell_type": "markdown",
   "metadata": {},
   "source": [
    "# Reading and writing video streams directly\n",
    "\n",
    "Given that `tkinter` and openCV (`cv2`) are installed, video streams can be read, written and visuallized by `get`ting and `put`ting video chunks.\n",
    "\n",
    "Video chunks are 3d: time, x, y - a color version is under development"
   ]
  },
  {
   "cell_type": "code",
   "execution_count": 2,
   "metadata": {
    "collapsed": false
   },
   "outputs": [
    {
     "name": "stdout",
     "output_type": "stream",
     "text": [
      "Starting Tk main thread...\n"
     ]
    }
   ],
   "source": [
    "vis = convis.streams.run_visualizer() # needs tkinter to be installed"
   ]
  },
  {
   "cell_type": "markdown",
   "metadata": {},
   "source": [
    "Download a sample movie eg. from the [blender feature gallery](http://archive.blender.org/features-gallery/movies/), use a mjpeg stream eg from [opentopia](http://www.opentopia.com/) or point the path to an existing video file on your system or use `0` to use your webcam."
   ]
  },
  {
   "cell_type": "code",
   "execution_count": 3,
   "metadata": {
    "collapsed": false
   },
   "outputs": [],
   "source": [
    "# these streams need openCV installed (cv2)\n",
    "reader = convis.streams.VideoReader('http://webcam01.bigskyresort.com/mjpg/video.mjpg',\n",
    "                                    # uses a webcam streamed over the internet\n",
    "                                    # to use your webcam, simply use 0 isntead of a string\n",
    "                                    # or another index if you have more than one webcam\n",
    "                                    size=(200,200),\n",
    "                                    offset=(200,200))\n",
    "                                    # the size and offset define a subregion of the video to use\n",
    "                                    # both are measured from the top left\n",
    "writer = convis.streams.VideoWriter('copy2.avi',size=(200,200)) # output file"
   ]
  },
  {
   "cell_type": "code",
   "execution_count": 4,
   "metadata": {
    "collapsed": false
   },
   "outputs": [],
   "source": [
    "#reader.get(5000) # if you want to skip frames in the beginning\n",
    "import time\n",
    "offset = reader.offset\n",
    "for i in range(10):\n",
    "    s = reader.get(15) # fetches 15 frames\n",
    "    writer.put(s)      # writes the frames to the video file\n",
    "    vis.put(s)         # displays the video in a small window\n",
    "    time.sleep(0.5)\n",
    "    #offset = offset + 5.0*(rand(2)-0.5) # if you want to give some movement to your input stream\n",
    "    #reader.offset = (int(offset[0]),int(offset[1]))"
   ]
  },
  {
   "cell_type": "code",
   "execution_count": 5,
   "metadata": {
    "collapsed": true
   },
   "outputs": [],
   "source": [
    "reader.close()\n",
    "writer.close() # closes and saves the video"
   ]
  },
  {
   "cell_type": "markdown",
   "metadata": {},
   "source": [
    "# Using a Runner\n",
    "\n",
    "The `Runner` class executes a function on the output of one stream and feeds it into another stream in a separate thread.\n",
    "Use `runner.start()` and `runner.stop()` to control the behavior from the main thread.\n",
    "\n",
    "Caution: The interface of the runner module will change in the near future to allow multiple in and outputs."
   ]
  },
  {
   "cell_type": "code",
   "execution_count": 6,
   "metadata": {
    "collapsed": false
   },
   "outputs": [],
   "source": [
    "config = convis.retina.RetinaConfiguration()\n",
    "config.set('input-luminosity-range',1.0)\n",
    "retina = convis.retina.Retina(config)"
   ]
  },
  {
   "cell_type": "code",
   "execution_count": 7,
   "metadata": {
    "collapsed": false
   },
   "outputs": [],
   "source": [
    "import convis.runner\n",
    "reader = convis.streams.VideoReader('../ExampleMovies/big_buck_bunny_480p_surround-fix.avi',\n",
    "                                    size=(100,100),\n",
    "                                    offset=(100,100))\n",
    "vis = convis.streams.run_visualizer()\n",
    "runner = convis.runner.Runner(retina.run,reader,vis) # reads from the video file, computes retina.run and shows the output"
   ]
  },
  {
   "cell_type": "code",
   "execution_count": 8,
   "metadata": {
    "collapsed": false
   },
   "outputs": [],
   "source": [
    "runner.start()"
   ]
  },
  {
   "cell_type": "code",
   "execution_count": 9,
   "metadata": {
    "collapsed": false
   },
   "outputs": [],
   "source": [
    "vis.decay = 0.9"
   ]
  },
  {
   "cell_type": "code",
   "execution_count": 10,
   "metadata": {
    "collapsed": true
   },
   "outputs": [],
   "source": [
    "from time import sleep\n",
    "sleep(20.0) # sleep a while before stopping"
   ]
  },
  {
   "cell_type": "code",
   "execution_count": 11,
   "metadata": {
    "collapsed": true
   },
   "outputs": [],
   "source": [
    "runner.stop()"
   ]
  },
  {
   "cell_type": "code",
   "execution_count": 12,
   "metadata": {
    "collapsed": true
   },
   "outputs": [],
   "source": [
    "reader.close()"
   ]
  },
  {
   "cell_type": "code",
   "execution_count": null,
   "metadata": {
    "collapsed": true
   },
   "outputs": [],
   "source": []
  }
 ],
 "metadata": {
  "kernelspec": {
   "display_name": "Python 2",
   "language": "python",
   "name": "python2"
  },
  "language_info": {
   "codemirror_mode": {
    "name": "ipython",
    "version": 2
   },
   "file_extension": ".py",
   "mimetype": "text/x-python",
   "name": "python",
   "nbconvert_exporter": "python",
   "pygments_lexer": "ipython2",
   "version": "2.7.6"
  },
  "toc": {
   "toc_cell": false,
   "toc_number_sections": true,
   "toc_threshold": 6,
   "toc_window_display": false
  }
 },
 "nbformat": 4,
 "nbformat_minor": 0
}
