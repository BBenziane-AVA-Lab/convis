{
 "cells": [
  {
   "cell_type": "code",
   "execution_count": 1,
   "metadata": {
    "collapsed": false
   },
   "outputs": [
    {
     "name": "stdout",
     "output_type": "stream",
     "text": [
      "Populating the interactive namespace from numpy and matplotlib\n"
     ]
    },
    {
     "name": "stderr",
     "output_type": "stream",
     "text": [
      "Using gpu device 0: Quadro K620 (CNMeM is disabled, cuDNN not available)\n"
     ]
    }
   ],
   "source": [
    "%pylab inline\n",
    "import convis\n",
    "import convis.streams"
   ]
  },
  {
   "cell_type": "markdown",
   "metadata": {},
   "source": [
    "# Reading and writing video streams directly\n",
    "\n",
    "Given that `tkinter` and openCV (`cv2`) are installed, video streams can be read, written and visuallized by `get`ing and `put`ing video chunks (3d: time,x,y - a color version is under development)."
   ]
  },
  {
   "cell_type": "code",
   "execution_count": 3,
   "metadata": {
    "collapsed": false
   },
   "outputs": [
    {
     "name": "stdout",
     "output_type": "stream",
     "text": [
      "Starting Tk main thread...\n"
     ]
    }
   ],
   "source": [
    "vis = convis.streams.run_visualizer()"
   ]
  },
  {
   "cell_type": "markdown",
   "metadata": {},
   "source": [
    "Download a sample movie eg. from the [blender feature gallery](http://archive.blender.org/features-gallery/movies/), use a mjpeg stream eg from [opentopia](http://www.opentopia.com/) or point the path to an existing video file on your system."
   ]
  },
  {
   "cell_type": "code",
   "execution_count": 4,
   "metadata": {
    "collapsed": false
   },
   "outputs": [],
   "source": [
    "reader = convis.streams.VideoReader('http://webcam01.bigskyresort.com/mjpg/video.mjpg',\n",
    "                                    size=(200,200),\n",
    "                                    offset=(200,200))\n",
    "writer = convis.streams.VideoWriter('copy2.avi',size=(200,200))"
   ]
  },
  {
   "cell_type": "code",
   "execution_count": 15,
   "metadata": {
    "collapsed": false
   },
   "outputs": [],
   "source": [
    "#reader.get(5000)\n",
    "import time\n",
    "offset = (400,200)#reader.offset\n",
    "reader.offset = (int(offset[0]),int(offset[1]))\n",
    "for i in range(10):\n",
    "    s = reader.get(15)\n",
    "    writer.put(s)\n",
    "    vis.put(s)\n",
    "    time.sleep(0.5)\n",
    "    #offset = offset + 5.0*(rand(2)-0.5)\n",
    "    #reader.offset = (int(offset[0]),int(offset[1]))"
   ]
  },
  {
   "cell_type": "code",
   "execution_count": 16,
   "metadata": {
    "collapsed": true
   },
   "outputs": [],
   "source": [
    "reader.close()\n",
    "writer.close()"
   ]
  },
  {
   "cell_type": "markdown",
   "metadata": {},
   "source": [
    "# Using a Runner\n",
    "\n",
    "The `Runner` class executes a function on the output of one stream and feeds it into another stream in a separate thread.\n",
    "Use `runner.start()` and `runner.stop()` to control the behavior from the main thread.\n",
    "\n",
    "Caution: The interface of the runner module will change in the near future to allow multiple in and outputs."
   ]
  },
  {
   "cell_type": "code",
   "execution_count": 9,
   "metadata": {
    "collapsed": false
   },
   "outputs": [],
   "source": [
    "config = convis.retina.RetinaConfiguration()\n",
    "config.set('input-luminosity-range',1.0)\n",
    "retina = convis.retina.Retina(config)"
   ]
  },
  {
   "cell_type": "code",
   "execution_count": 10,
   "metadata": {
    "collapsed": false
   },
   "outputs": [],
   "source": [
    "import convis.runner\n",
    "reader = convis.streams.VideoReader('../ExampleMovies/big_buck_bunny_480p_surround-fix.avi',\n",
    "                                    size=(100,100),\n",
    "                                    offset=(100,100))\n",
    "vis = convis.streams.run_visualizer()\n",
    "runner = convis.runner.Runner(retina.run,reader,vis)"
   ]
  },
  {
   "cell_type": "code",
   "execution_count": 19,
   "metadata": {
    "collapsed": false
   },
   "outputs": [
    {
     "data": {
      "text/plain": [
       "True"
      ]
     },
     "execution_count": 19,
     "metadata": {},
     "output_type": "execute_result"
    }
   ],
   "source": [
    "runner.start()"
   ]
  },
  {
   "cell_type": "code",
   "execution_count": 20,
   "metadata": {
    "collapsed": false
   },
   "outputs": [],
   "source": [
    "vis.decay = 0.9"
   ]
  },
  {
   "cell_type": "code",
   "execution_count": 22,
   "metadata": {
    "collapsed": true
   },
   "outputs": [],
   "source": [
    "runner.stop()"
   ]
  },
  {
   "cell_type": "code",
   "execution_count": null,
   "metadata": {
    "collapsed": true
   },
   "outputs": [],
   "source": [
    "from time import sleep\n",
    "sleep(20.0)"
   ]
  },
  {
   "cell_type": "code",
   "execution_count": 23,
   "metadata": {
    "collapsed": true
   },
   "outputs": [],
   "source": [
    "reader.close()"
   ]
  },
  {
   "cell_type": "code",
   "execution_count": null,
   "metadata": {
    "collapsed": true
   },
   "outputs": [],
   "source": []
  }
 ],
 "metadata": {
  "kernelspec": {
   "display_name": "Python 2",
   "language": "python",
   "name": "python2"
  },
  "language_info": {
   "codemirror_mode": {
    "name": "ipython",
    "version": 2
   },
   "file_extension": ".py",
   "mimetype": "text/x-python",
   "name": "python",
   "nbconvert_exporter": "python",
   "pygments_lexer": "ipython2",
   "version": "2.7.6"
  },
  "toc": {
   "toc_cell": false,
   "toc_number_sections": true,
   "toc_threshold": 6,
   "toc_window_display": false
  }
 },
 "nbformat": 4,
 "nbformat_minor": 0
}
